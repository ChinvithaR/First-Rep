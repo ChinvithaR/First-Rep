{
    "cells": [
        {
            "cell_type": "markdown",
            "metadata": {},
            "source": "IBM holiday list 2020 with Jupyter notebook Pandas"
        },
        {
            "cell_type": "code",
            "execution_count": 2,
            "metadata": {},
            "outputs": [
                {
                    "data": {
                        "text/html": "<div>\n<style scoped>\n    .dataframe tbody tr th:only-of-type {\n        vertical-align: middle;\n    }\n\n    .dataframe tbody tr th {\n        vertical-align: top;\n    }\n\n    .dataframe thead th {\n        text-align: right;\n    }\n</style>\n<table border=\"1\" class=\"dataframe\">\n  <thead>\n    <tr style=\"text-align: right;\">\n      <th></th>\n      <th>Holiday List - 2020</th>\n      <th>Unnamed: 1</th>\n      <th>Unnamed: 2</th>\n      <th>Unnamed: 3</th>\n      <th>Unnamed: 4</th>\n      <th>Unnamed: 5</th>\n      <th>Unnamed: 6</th>\n      <th>Unnamed: 7</th>\n      <th>Unnamed: 8</th>\n      <th>Unnamed: 9</th>\n      <th>Unnamed: 10</th>\n      <th>Unnamed: 11</th>\n      <th>Unnamed: 12</th>\n      <th>Unnamed: 13</th>\n      <th>Unnamed: 14</th>\n      <th>Unnamed: 15</th>\n      <th>Unnamed: 16</th>\n    </tr>\n  </thead>\n  <tbody>\n    <tr>\n      <th>0</th>\n      <td>S.No</td>\n      <td>Holiday</td>\n      <td>2020</td>\n      <td>NaN</td>\n      <td>NaN</td>\n      <td>Karnataka</td>\n      <td>TN</td>\n      <td>Telangana</td>\n      <td>Andra Pradesh</td>\n      <td>NCR</td>\n      <td>Maharashtra</td>\n      <td>NaN</td>\n      <td>Gujrat</td>\n      <td>WB</td>\n      <td>Jharkhand</td>\n      <td>Orissa</td>\n      <td>Rajasthan</td>\n    </tr>\n    <tr>\n      <th>1</th>\n      <td>NaN</td>\n      <td>NaN</td>\n      <td>Date</td>\n      <td>Day</td>\n      <td>Type of holiday</td>\n      <td>Bangalore</td>\n      <td>Chennai</td>\n      <td>HYD</td>\n      <td>Vizag</td>\n      <td>Delhi/Noida Gurgoan/</td>\n      <td>Pune</td>\n      <td>Mumbai</td>\n      <td>Ahmedabad</td>\n      <td>Kolkata</td>\n      <td>Jamshedpur</td>\n      <td>Bhubaneshwar</td>\n      <td>Jaipur</td>\n    </tr>\n    <tr>\n      <th>2</th>\n      <td>1</td>\n      <td>Makar Sankranti/Bhogi</td>\n      <td>2020-01-14 00:00:00</td>\n      <td>Tuesday</td>\n      <td>#</td>\n      <td>NaN</td>\n      <td>NaN</td>\n      <td>NaN</td>\n      <td>1</td>\n      <td>NaN</td>\n      <td>NaN</td>\n      <td>NaN</td>\n      <td>1</td>\n      <td>NaN</td>\n      <td>NaN</td>\n      <td>NaN</td>\n      <td>NaN</td>\n    </tr>\n    <tr>\n      <th>3</th>\n      <td>2</td>\n      <td>Makar Sankranti/Pongal/</td>\n      <td>2020-01-15 00:00:00</td>\n      <td>Wednesday</td>\n      <td>#</td>\n      <td>1</td>\n      <td>1</td>\n      <td>1</td>\n      <td>1</td>\n      <td>1</td>\n      <td>NaN</td>\n      <td>NaN</td>\n      <td>NaN</td>\n      <td>NaN</td>\n      <td>NaN</td>\n      <td>NaN</td>\n      <td>1</td>\n    </tr>\n    <tr>\n      <th>4</th>\n      <td>3</td>\n      <td>Netaji Birthday</td>\n      <td>2020-01-23 00:00:00</td>\n      <td>Thursday</td>\n      <td>#</td>\n      <td>NaN</td>\n      <td>NaN</td>\n      <td>NaN</td>\n      <td>NaN</td>\n      <td>NaN</td>\n      <td>NaN</td>\n      <td>NaN</td>\n      <td>NaN</td>\n      <td>1</td>\n      <td>NaN</td>\n      <td>NaN</td>\n      <td>NaN</td>\n    </tr>\n  </tbody>\n</table>\n</div>",
                        "text/plain": "   Holiday List - 2020               Unnamed: 1           Unnamed: 2  \\\n0                S.No                   Holiday                 2020   \n1                  NaN                      NaN                Date    \n2                    1    Makar Sankranti/Bhogi  2020-01-14 00:00:00   \n3                    2  Makar Sankranti/Pongal/  2020-01-15 00:00:00   \n4                    3          Netaji Birthday  2020-01-23 00:00:00   \n\n  Unnamed: 3       Unnamed: 4 Unnamed: 5 Unnamed: 6 Unnamed: 7     Unnamed: 8  \\\n0        NaN              NaN  Karnataka         TN  Telangana  Andra Pradesh   \n1       Day   Type of holiday  Bangalore    Chennai        HYD          Vizag   \n2    Tuesday                #        NaN        NaN        NaN              1   \n3  Wednesday                #          1          1          1              1   \n4   Thursday                #        NaN        NaN        NaN            NaN   \n\n             Unnamed: 9  Unnamed: 10 Unnamed: 11 Unnamed: 12 Unnamed: 13  \\\n0                   NCR  Maharashtra         NaN      Gujrat          WB   \n1  Delhi/Noida Gurgoan/         Pune      Mumbai  Ahmedabad      Kolkata   \n2                   NaN          NaN         NaN           1         NaN   \n3                     1          NaN         NaN         NaN         NaN   \n4                   NaN          NaN         NaN         NaN           1   \n\n  Unnamed: 14   Unnamed: 15 Unnamed: 16  \n0   Jharkhand        Orissa   Rajasthan  \n1  Jamshedpur  Bhubaneshwar      Jaipur  \n2         NaN           NaN         NaN  \n3         NaN           NaN           1  \n4         NaN           NaN         NaN  "
                    },
                    "execution_count": 2,
                    "metadata": {},
                    "output_type": "execute_result"
                }
            ],
            "source": "# The code was removed by Watson Studio for sharing."
        },
        {
            "cell_type": "code",
            "execution_count": null,
            "metadata": {},
            "outputs": [],
            "source": ""
        }
    ],
    "metadata": {
        "kernelspec": {
            "display_name": "Python 3.6",
            "language": "python",
            "name": "python3"
        },
        "language_info": {
            "codemirror_mode": {
                "name": "ipython",
                "version": 3
            },
            "file_extension": ".py",
            "mimetype": "text/x-python",
            "name": "python",
            "nbconvert_exporter": "python",
            "pygments_lexer": "ipython3",
            "version": "3.6.9"
        }
    },
    "nbformat": 4,
    "nbformat_minor": 1
}